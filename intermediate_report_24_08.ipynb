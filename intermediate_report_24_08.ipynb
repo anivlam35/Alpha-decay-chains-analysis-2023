{
 "cells": [
  {
   "cell_type": "markdown",
   "id": "9854085b",
   "metadata": {},
   "source": [
    "### Importing necessary libs"
   ]
  },
  {
   "cell_type": "code",
   "execution_count": 1,
   "id": "ff52a4cb",
   "metadata": {},
   "outputs": [],
   "source": [
    "from sklearn.cluster import KMeans\n",
    "import numpy as np\n",
    "import matplotlib.pyplot as plt\n",
    "import pandas as pd\n",
    "from sklearn.metrics import silhouette_score\n",
    "from scipy.optimize import curve_fit"
   ]
  },
  {
   "cell_type": "markdown",
   "id": "69e25a96",
   "metadata": {},
   "source": [
    "### Reading generated data"
   ]
  },
  {
   "cell_type": "code",
   "execution_count": 2,
   "id": "7290cbe0",
   "metadata": {},
   "outputs": [
    {
     "data": {
      "text/plain": [
       "<matplotlib.collections.PathCollection at 0x7fdce77b2d90>"
      ]
     },
     "execution_count": 2,
     "metadata": {},
     "output_type": "execute_result"
    },
    {
     "data": {
      "image/png": "[encoded data removed]",
      "text/plain": [
       "<Figure size 432x288 with 1 Axes>"
      ]
     },
     "metadata": {
      "needs_background": "light"
     },
     "output_type": "display_data"
    }
   ],
   "source": [
    "# Reading generated data \n",
    "primary_nucleus = '215Th'\n",
    "num_of_gens = 10000\n",
    "\n",
    "a = np.exp(1)\n",
    "\n",
    "with open(f'{primary_nucleus}_{num_of_gens}_ms.txt', 'r') as f:\n",
    "    file_data = f.read()\n",
    "time, energy = file_data.split('\\n')\n",
    "theta = [np.log(float(el)) / np.log(a) for el in time.split(',')]\n",
    "energy = [float(el) for el in energy.split(',')]\n",
    "\n",
    "fig, ax = plt.subplots()\n",
    "plt.xlabel('Energy, keV')\n",
    "plt.ylabel(f'log{a}(time)')\n",
    "ax.scatter(energy, theta, s=0.1)"
   ]
  },
  {
   "cell_type": "markdown",
   "id": "6823858d",
   "metadata": {},
   "source": [
    "### Format data to pandas.DataFrame"
   ]
  },
  {
   "cell_type": "code",
   "execution_count": 3,
   "id": "bc766968",
   "metadata": {},
   "outputs": [
    {
     "data": {
      "text/html": [
       "<div>\n",
       "<style scoped>\n",
       "    .dataframe tbody tr th:only-of-type {\n",
       "        vertical-align: middle;\n",
       "    }\n",
       "\n",
       "    .dataframe tbody tr th {\n",
       "        vertical-align: top;\n",
       "    }\n",
       "\n",
       "    .dataframe thead th {\n",
       "        text-align: right;\n",
       "    }\n",
       "</style>\n",
       "<table border=\"1\" class=\"dataframe\">\n",
       "  <thead>\n",
       "    <tr style=\"text-align: right;\">\n",
       "      <th></th>\n",
       "      <th>theta</th>\n",
       "      <th>energy</th>\n",
       "    </tr>\n",
       "  </thead>\n",
       "  <tbody>\n",
       "    <tr>\n",
       "      <th>0</th>\n",
       "      <td>7.572511</td>\n",
       "      <td>7514.426</td>\n",
       "    </tr>\n",
       "    <tr>\n",
       "      <th>1</th>\n",
       "      <td>8.625626</td>\n",
       "      <td>6903.130</td>\n",
       "    </tr>\n",
       "    <tr>\n",
       "      <th>2</th>\n",
       "      <td>5.197377</td>\n",
       "      <td>7505.484</td>\n",
       "    </tr>\n",
       "    <tr>\n",
       "      <th>3</th>\n",
       "      <td>8.682133</td>\n",
       "      <td>6904.617</td>\n",
       "    </tr>\n",
       "    <tr>\n",
       "      <th>4</th>\n",
       "      <td>7.476203</td>\n",
       "      <td>7528.338</td>\n",
       "    </tr>\n",
       "  </tbody>\n",
       "</table>\n",
       "</div>"
      ],
      "text/plain": [
       "      theta    energy\n",
       "0  7.572511  7514.426\n",
       "1  8.625626  6903.130\n",
       "2  5.197377  7505.484\n",
       "3  8.682133  6904.617\n",
       "4  7.476203  7528.338"
      ]
     },
     "execution_count": 3,
     "metadata": {},
     "output_type": "execute_result"
    }
   ],
   "source": [
    "db = pd.DataFrame({\n",
    "    'theta': theta,\n",
    "    'energy': energy\n",
    "})\n",
    "\n",
    "db.head()"
   ]
  },
  {
   "cell_type": "markdown",
   "id": "1ecd4f7c",
   "metadata": {},
   "source": [
    "## Evaluating number of clusters"
   ]
  },
  {
   "cell_type": "markdown",
   "id": "6c72ba39",
   "metadata": {},
   "source": [
    "This approach is based on calculating [silhouette score](https://scikit-learn.org/stable/modules/generated/sklearn.metrics.silhouette_score.html). The main idea is that silhouette score is calculated in the loop for different number of clusters. The point right before the biggest downturn is the real number of clusters.\n",
    "\n",
    "I modified this approach in the next way: \n",
    "It's much better to control downturn by derivative. \n",
    "Also we can find the biggest downturn by finding outlier in list of derivatives."
   ]
  },
  {
   "cell_type": "markdown",
   "id": "11f463b0",
   "metadata": {},
   "source": [
    "#### silhouette score calculations"
   ]
  },
  {
   "cell_type": "code",
   "execution_count": 4,
   "id": "5a32def1",
   "metadata": {},
   "outputs": [],
   "source": [
    "num_of_clusters = range(2,13)\n",
    "\n",
    "silhouette_avg = []\n",
    "for num_clusters in num_of_clusters:\n",
    "\n",
    "    kmeans = KMeans(n_clusters=num_clusters)\n",
    "    kmeans.fit(db[['energy', 'theta']])\n",
    "    cluster_labels = kmeans.labels_\n",
    "    silhouette_avg.append(silhouette_score(db[['energy', 'theta']], cluster_labels))"
   ]
  },
  {
   "cell_type": "markdown",
   "id": "231e1fef",
   "metadata": {},
   "source": [
    "#### calculatiions derivative of silhouette score"
   ]
  },
  {
   "cell_type": "code",
   "execution_count": 5,
   "id": "dac4aeea",
   "metadata": {},
   "outputs": [],
   "source": [
    "derivative_silhouette_avg = [silhouette_avg[i + 1] - silhouette_avg[i] for i in range(len(silhouette_avg) - 1)]"
   ]
  },
  {
   "cell_type": "markdown",
   "id": "48607131",
   "metadata": {},
   "source": [
    "#### visualising"
   ]
  },
  {
   "cell_type": "code",
   "execution_count": 6,
   "id": "6008da3d",
   "metadata": {},
   "outputs": [
    {
     "data": {
      "image/png": "[encoded data removed]",
      "text/plain": [
       "<Figure size 432x288 with 1 Axes>"
      ]
     },
     "metadata": {
      "needs_background": "light"
     },
     "output_type": "display_data"
    }
   ],
   "source": [
    "plt.plot(num_of_clusters, silhouette_avg, 'gx-', label='silhouette scr.')\n",
    "plt.plot(num_of_clusters[:-1],derivative_silhouette_avg,'bx-', label='silhouette scr. deriv.')\n",
    "plt.xlabel('Values of K') \n",
    "plt.ylabel('Silhouette score') \n",
    "plt.title('Silhouette analysis For Optimal k')\n",
    "plt.legend()\n",
    "plt.show()"
   ]
  },
  {
   "cell_type": "markdown",
   "id": "1cfec561",
   "metadata": {},
   "source": [
    "####  finding outlier in silhouette score derivative"
   ]
  },
  {
   "cell_type": "code",
   "execution_count": 7,
   "id": "696d9a84",
   "metadata": {},
   "outputs": [],
   "source": [
    "def outlier_finder(x):\n",
    "    mean_x = np.mean(x)\n",
    "    sd_x = np.std(x)\n",
    "    dev_x = abs(x - mean_x)\n",
    "    max_dev_x = max(dev_x)\n",
    "    if max_dev_x > (1.5 * sd_x):\n",
    "        return np.where(dev_x == max_dev_x)[0][0]\n",
    "    else:\n",
    "        return None # if no outlier, the number of clusters is 1"
   ]
  },
  {
   "cell_type": "markdown",
   "id": "642c4c1a",
   "metadata": {},
   "source": [
    "### Let's apply this approach to our dataset\n",
    "\n",
    "(probably it will be convolved into one function that has dataset as input and num of clusters as output)"
   ]
  },
  {
   "cell_type": "code",
   "execution_count": 8,
   "id": "d828a1cb",
   "metadata": {},
   "outputs": [
    {
     "name": "stdout",
     "output_type": "stream",
     "text": [
      "5\n"
     ]
    },
    {
     "data": {
      "image/png": "[encoded data removed]",
      "text/plain": [
       "<Figure size 432x288 with 1 Axes>"
      ]
     },
     "metadata": {
      "needs_background": "light"
     },
     "output_type": "display_data"
    }
   ],
   "source": [
    "num_of_clusters = range(2,13)\n",
    "\n",
    "silhouette_avg = []\n",
    "for n in num_of_clusters:\n",
    "\n",
    "    kmeans = KMeans(n_clusters=n)\n",
    "    kmeans.fit(db[['energy', 'theta']])\n",
    "    cluster_labels = kmeans.labels_\n",
    "    silhouette_avg.append(silhouette_score(db[['energy', 'theta']], cluster_labels))\n",
    "    \n",
    "derivative_silhouette_avg = [silhouette_avg[i + 1] - silhouette_avg[i] for i in range(len(silhouette_avg) - 1)]\n",
    "\n",
    "outlier = outlier_finder(derivative_silhouette_avg)\n",
    "\n",
    "if outlier:\n",
    "    real_number_of_clusters = num_of_clusters[outlier]\n",
    "else:\n",
    "    real_number_of_clusters = 1\n",
    "    \n",
    "print(real_number_of_clusters)\n",
    "    \n",
    "kmeans = KMeans(n_clusters=real_number_of_clusters)\n",
    "kmeans.fit(db[['energy', 'theta']])\n",
    "\n",
    "db['labels'] = kmeans.labels_\n",
    "\n",
    "fig, ax = plt.subplots()\n",
    "ax.scatter(db.energy, db.theta, c=db['labels'], cmap=\"plasma\", s=0.1)\n",
    "plt.title('Clustering')\n",
    "plt.xlabel('Energy, keV')\n",
    "plt.ylabel('log2(time)')\n",
    "plt.show()"
   ]
  },
  {
   "attachments": {
    "image.png": {
     "image/png": "[encoded data removed]"
    }
   },
   "cell_type": "markdown",
   "id": "26ee28de",
   "metadata": {},
   "source": [
    "### Fitting function\n",
    "The approximation function is the product of Gaussian and time distribution ![image.png](attachment:image.png)\n",
    "As primary parameters we use center of cluster that we are able to extract from kmeans\n"
   ]
  },
  {
   "cell_type": "code",
   "execution_count": 9,
   "id": "d4d41139",
   "metadata": {},
   "outputs": [],
   "source": [
    "def fit_func_3d(en, *pars, c, a):\n",
    "    result = 0\n",
    "\n",
    "    for i in range(c):\n",
    "        a0 = pars[4 * i]\n",
    "        tau = pars[4 * i + 1]\n",
    "        mu = pars[4 * i + 2]\n",
    "        sigma = pars[4 * i + 3]\n",
    "        # result = amplitude * \\\n",
    "        # time distribution * \\\n",
    "        # gaussian\n",
    "        result += a0 * \\\n",
    "        np.log(a) * np.exp(en[:,1] * np.log(a)) * np.exp((- np.exp(en[:,1] * np.log(a))) / tau) *\\\n",
    "        (1 / (sigma * np.sqrt(2 * np.pi))) * np.exp(-(en[:,0] - mu) ** 2 / (2 * sigma ** 2)) \n",
    "    return result"
   ]
  },
  {
   "cell_type": "code",
   "execution_count": 10,
   "id": "e249502f",
   "metadata": {
    "scrolled": true
   },
   "outputs": [
    {
     "data": {
      "text/plain": [
       "array([[7.39189071e+03, 6.86757898e+00],\n",
       "       [6.90897277e+03, 9.50186479e+00],\n",
       "       [7.52185566e+03, 6.91482411e+00],\n",
       "       [7.33363824e+03, 6.88706904e+00],\n",
       "       [7.23593005e+03, 6.86499436e+00]])"
      ]
     },
     "execution_count": 10,
     "metadata": {},
     "output_type": "execute_result"
    }
   ],
   "source": [
    "kmeans.cluster_centers_"
   ]
  },
  {
   "cell_type": "markdown",
   "id": "69786b13",
   "metadata": {},
   "source": [
    "### Preparing data for fitting \n",
    "I decided to make two-dimensional histogram and then fit its points "
   ]
  },
  {
   "cell_type": "code",
   "execution_count": null,
   "id": "56e2e34b",
   "metadata": {},
   "outputs": [],
   "source": []
  },
  {
   "cell_type": "code",
   "execution_count": 11,
   "id": "f779876a",
   "metadata": {},
   "outputs": [
    {
     "data": {
      "image/png": "[encoded data removed]",
      "text/plain": [
       "<Figure size 432x288 with 1 Axes>"
      ]
     },
     "metadata": {
      "needs_background": "light"
     },
     "output_type": "display_data"
    }
   ],
   "source": [
    "energy = db['energy']\n",
    "new_a = 1.01\n",
    "theta = [el * np.log(a) / np.log(new_a) for el in db['theta']]\n",
    "\n",
    "data = np.array([list(el) for el in zip(energy, theta)])\n",
    "\n",
    "hist, energy_bins_edges, theta_bins_edges, im = plt.hist2d(data[:,0], data[:,1], bins=(100, 100), cmap=plt.cm.jet)"
   ]
  },
  {
   "cell_type": "code",
   "execution_count": 12,
   "id": "f61fb366",
   "metadata": {},
   "outputs": [],
   "source": [
    "energy_bins = np.array([(energy_bins_edges[i] + energy_bins_edges[i + 1]) / 2 for i in range(len(energy_bins_edges) - 1)]).flatten().astype(np.float64)\n",
    "theta_bins = np.array([(theta_bins_edges[i] + theta_bins_edges[i + 1]) / 2 for i in range(len(theta_bins_edges) - 1)]).flatten().astype(np.float64)\n",
    "\n",
    "energytheta_data = np.array([(energy_bins[i], theta_bins[j]) for i in range(len(energy_bins)) for j in range(len(theta_bins))])\n",
    "\n",
    "counts = np.array([hist[i][j] for i in range(len(energy_bins)) for j in range(len(theta_bins))]).flatten().astype(np.float64)"
   ]
  },
  {
   "cell_type": "code",
   "execution_count": 13,
   "id": "0cdfc893",
   "metadata": {
    "scrolled": true
   },
   "outputs": [
    {
     "name": "stdout",
     "output_type": "stream",
     "text": [
      "[2.97468190e+02 1.67170102e+03 7.39160529e+03 1.07626288e+01\n",
      " 5.30044261e+01 1.95894337e+04 6.90919912e+03 1.09624420e+01\n",
      " 2.15653763e+02 1.78989450e+03 7.52191048e+03 1.07233882e+01\n",
      " 4.75274352e+01 1.65187463e+03 7.33346366e+03 1.11959355e+01\n",
      " 6.58731009e+00 1.45798914e+03 7.23508800e+03 1.08311328e+01] [2.15670862e+00 9.15725635e+00 5.89853065e-02 5.91038908e-02\n",
      " 1.85648020e-01 5.18675740e+01 2.90250676e-02 2.90250996e-02\n",
      " 2.00959351e+00 1.26082724e+01 7.55373915e-02 7.55413193e-02\n",
      " 2.22607491e+00 5.84564592e+01 3.96389956e-01 3.97210634e-01\n",
      " 2.47952731e+00 4.14769328e+02 3.08104942e+00 3.08104942e+00]\n"
     ]
    }
   ],
   "source": [
    "p0 = []\n",
    "c = len(kmeans.cluster_centers_)\n",
    "for center in kmeans.cluster_centers_:\n",
    "    en_center, n_center = center\n",
    "    a0 = db[db['labels'] == np.where(kmeans.cluster_centers_ == center)[0][0]].shape[0] \n",
    "    tau_0 = np.power(a, n_center)\n",
    "    [p0.append(el) for el in [a0, tau_0, en_center, 15]]\n",
    "    \n",
    "    \n",
    "popt, pcov = curve_fit(lambda en, *pars: fit_func_3d(en, *pars, c=c, a=new_a), energytheta_data, counts, p0=p0)\n",
    "\n",
    "errors = np.sqrt(np.diag(pcov))\n",
    "print(popt, np.sqrt(np.diag(pcov)))"
   ]
  },
  {
   "cell_type": "markdown",
   "id": "ff33ff38",
   "metadata": {},
   "source": [
    "### Results\n",
    "As we see, the obtained energy values agree well, but the half-life values are markedly different.\n",
    "Modeled energies are 7522, 6909, 7392, 7236 and 7334 keV.\n",
    "Modeled half life times are 1.2 and 13 second."
   ]
  },
  {
   "cell_type": "code",
   "execution_count": 14,
   "id": "ffba553d",
   "metadata": {
    "scrolled": false
   },
   "outputs": [
    {
     "data": {
      "text/html": [
       "<div>\n",
       "<style scoped>\n",
       "    .dataframe tbody tr th:only-of-type {\n",
       "        vertical-align: middle;\n",
       "    }\n",
       "\n",
       "    .dataframe tbody tr th {\n",
       "        vertical-align: top;\n",
       "    }\n",
       "\n",
       "    .dataframe thead th {\n",
       "        text-align: right;\n",
       "    }\n",
       "</style>\n",
       "<table border=\"1\" class=\"dataframe\">\n",
       "  <thead>\n",
       "    <tr style=\"text-align: right;\">\n",
       "      <th></th>\n",
       "      <th>half life time</th>\n",
       "      <th>half life time error</th>\n",
       "      <th>energy</th>\n",
       "      <th>energy error</th>\n",
       "      <th>fwhm</th>\n",
       "      <th>fwhm error</th>\n",
       "    </tr>\n",
       "  </thead>\n",
       "  <tbody>\n",
       "    <tr>\n",
       "      <th>0</th>\n",
       "      <td>1158.734850</td>\n",
       "      <td>6.347326</td>\n",
       "      <td>7391.605290</td>\n",
       "      <td>0.058985</td>\n",
       "      <td>25.345991</td>\n",
       "      <td>0.139190</td>\n",
       "    </tr>\n",
       "    <tr>\n",
       "      <th>1</th>\n",
       "      <td>13578.360756</td>\n",
       "      <td>35.951863</td>\n",
       "      <td>6909.199121</td>\n",
       "      <td>0.029025</td>\n",
       "      <td>25.816551</td>\n",
       "      <td>0.068354</td>\n",
       "    </tr>\n",
       "    <tr>\n",
       "      <th>2</th>\n",
       "      <td>1240.660328</td>\n",
       "      <td>8.739388</td>\n",
       "      <td>7521.910482</td>\n",
       "      <td>0.075537</td>\n",
       "      <td>25.253579</td>\n",
       "      <td>0.177900</td>\n",
       "    </tr>\n",
       "    <tr>\n",
       "      <th>3</th>\n",
       "      <td>1144.992241</td>\n",
       "      <td>40.518930</td>\n",
       "      <td>7333.463655</td>\n",
       "      <td>0.396390</td>\n",
       "      <td>26.366428</td>\n",
       "      <td>0.935431</td>\n",
       "    </tr>\n",
       "    <tr>\n",
       "      <th>4</th>\n",
       "      <td>1010.601061</td>\n",
       "      <td>287.496190</td>\n",
       "      <td>7235.088004</td>\n",
       "      <td>3.081049</td>\n",
       "      <td>25.507318</td>\n",
       "      <td>7.255871</td>\n",
       "    </tr>\n",
       "  </tbody>\n",
       "</table>\n",
       "</div>"
      ],
      "text/plain": [
       "   half life time  half life time error       energy  energy error       fwhm  \\\n",
       "0     1158.734850              6.347326  7391.605290      0.058985  25.345991   \n",
       "1    13578.360756             35.951863  6909.199121      0.029025  25.816551   \n",
       "2     1240.660328              8.739388  7521.910482      0.075537  25.253579   \n",
       "3     1144.992241             40.518930  7333.463655      0.396390  26.366428   \n",
       "4     1010.601061            287.496190  7235.088004      3.081049  25.507318   \n",
       "\n",
       "   fwhm error  \n",
       "0    0.139190  \n",
       "1    0.068354  \n",
       "2    0.177900  \n",
       "3    0.935431  \n",
       "4    7.255871  "
      ]
     },
     "execution_count": 14,
     "metadata": {},
     "output_type": "execute_result"
    }
   ],
   "source": [
    "fitting_results = pd.DataFrame({'half life time':[np.log(2) * popt[4 * i + 1] for i in range(real_number_of_clusters)],\n",
    "                               'half life time error':[np.log(2) * errors[4 * i + 1] for i in range(real_number_of_clusters)],\n",
    "                               'energy':[popt[4 * i + 2] for i in range(real_number_of_clusters)],\n",
    "                               'energy error':[errors[4 * i + 2] for i in range(real_number_of_clusters)],\n",
    "                               'fwhm':[2.355 * popt[4 * i + 3] for i in range(real_number_of_clusters)],\n",
    "                               'fwhm error':[2.355 * errors[4 * i + 3] for i in range(real_number_of_clusters)],})\n",
    "fitting_results"
   ]
  },
  {
   "cell_type": "markdown",
   "id": "17bd5321",
   "metadata": {},
   "source": [
    "### Relative errors"
   ]
  },
  {
   "cell_type": "code",
   "execution_count": 19,
   "id": "8b88eca0",
   "metadata": {},
   "outputs": [
    {
     "data": {
      "text/html": [
       "<div>\n",
       "<style scoped>\n",
       "    .dataframe tbody tr th:only-of-type {\n",
       "        vertical-align: middle;\n",
       "    }\n",
       "\n",
       "    .dataframe tbody tr th {\n",
       "        vertical-align: top;\n",
       "    }\n",
       "\n",
       "    .dataframe thead th {\n",
       "        text-align: right;\n",
       "    }\n",
       "</style>\n",
       "<table border=\"1\" class=\"dataframe\">\n",
       "  <thead>\n",
       "    <tr style=\"text-align: right;\">\n",
       "      <th></th>\n",
       "      <th>half life time</th>\n",
       "      <th>half life time error</th>\n",
       "      <th>real half life time</th>\n",
       "      <th>relative error, %</th>\n",
       "      <th>falls within the error interval</th>\n",
       "    </tr>\n",
       "  </thead>\n",
       "  <tbody>\n",
       "    <tr>\n",
       "      <th>0</th>\n",
       "      <td>1158.734850</td>\n",
       "      <td>6.347326</td>\n",
       "      <td>1200</td>\n",
       "      <td>3.438762</td>\n",
       "      <td>False</td>\n",
       "    </tr>\n",
       "    <tr>\n",
       "      <th>1</th>\n",
       "      <td>13578.360756</td>\n",
       "      <td>35.951863</td>\n",
       "      <td>13000</td>\n",
       "      <td>4.448929</td>\n",
       "      <td>False</td>\n",
       "    </tr>\n",
       "    <tr>\n",
       "      <th>2</th>\n",
       "      <td>1240.660328</td>\n",
       "      <td>8.739388</td>\n",
       "      <td>1200</td>\n",
       "      <td>3.388361</td>\n",
       "      <td>False</td>\n",
       "    </tr>\n",
       "    <tr>\n",
       "      <th>3</th>\n",
       "      <td>1144.992241</td>\n",
       "      <td>40.518930</td>\n",
       "      <td>1200</td>\n",
       "      <td>4.583980</td>\n",
       "      <td>False</td>\n",
       "    </tr>\n",
       "    <tr>\n",
       "      <th>4</th>\n",
       "      <td>1010.601061</td>\n",
       "      <td>287.496190</td>\n",
       "      <td>1200</td>\n",
       "      <td>15.783245</td>\n",
       "      <td>True</td>\n",
       "    </tr>\n",
       "  </tbody>\n",
       "</table>\n",
       "</div>"
      ],
      "text/plain": [
       "   half life time  half life time error  real half life time  \\\n",
       "0     1158.734850              6.347326                 1200   \n",
       "1    13578.360756             35.951863                13000   \n",
       "2     1240.660328              8.739388                 1200   \n",
       "3     1144.992241             40.518930                 1200   \n",
       "4     1010.601061            287.496190                 1200   \n",
       "\n",
       "   relative error, %  falls within the error interval  \n",
       "0           3.438762                            False  \n",
       "1           4.448929                            False  \n",
       "2           3.388361                            False  \n",
       "3           4.583980                            False  \n",
       "4          15.783245                             True  "
      ]
     },
     "execution_count": 19,
     "metadata": {},
     "output_type": "execute_result"
    }
   ],
   "source": [
    "compairing = fitting_results[['half life time', 'half life time error']].copy()\n",
    "compairing['real half life time'] = [1200, 13000, 1200, 1200, 1200]\n",
    "compairing['relative error, %'] = 100 * abs(compairing['half life time'] - \n",
    "                                      compairing['real half life time']) / compairing['real half life time']\n",
    "compairing['falls within the error interval'] = (compairing['real half life time'] > compairing['half life time'] - compairing['half life time error']) & (compairing['real half life time'] < compairing['half life time'] + compairing['half life time error'])\n",
    "\n",
    "compairing"
   ]
  },
  {
   "cell_type": "markdown",
   "id": "14b906b1",
   "metadata": {},
   "source": [
    "### Trying to fit one energy and hktime of one cluster separately"
   ]
  },
  {
   "cell_type": "code",
   "execution_count": 16,
   "id": "dfd5d5b6",
   "metadata": {},
   "outputs": [],
   "source": [
    "def time_fit_func(n, *pars):\n",
    "    t_0 = 1\n",
    "    a0, tau = pars\n",
    "    return a0 * (np.exp(-t_0 * np.power(a, n) / tau) - np.exp(-t_0 * np.power(a, n + 1) / tau))\n",
    "\n",
    "def energy_fit_func(e, *pars):\n",
    "    a, mu, sigma = pars\n",
    "    return a * np.exp(-(en[:,0] - mu) ** 2 / (2 * sigma ** 2))"
   ]
  },
  {
   "cell_type": "code",
   "execution_count": 17,
   "id": "5fb730b2",
   "metadata": {},
   "outputs": [
    {
     "data": {
      "image/png": "[encoded data removed]",
      "text/plain": [
       "<Figure size 432x288 with 1 Axes>"
      ]
     },
     "metadata": {
      "needs_background": "light"
     },
     "output_type": "display_data"
    }
   ],
   "source": [
    "cluter_1_theta = db[db['labels'] == 0].theta\n",
    "cluster_1_energy = db[db['labels'] == 0].energy\n",
    "\n",
    "counts, theta_bins_edges, _ = plt.hist(cluter_1_theta, bins=50)\n",
    "theta_bins = [(theta_bins_edges[i] + theta_bins_edges[i + 1]) / 2 for i in range(len(theta_bins_edges) - 1)]"
   ]
  },
  {
   "cell_type": "code",
   "execution_count": 18,
   "id": "d3dceb6a",
   "metadata": {},
   "outputs": [
    {
     "name": "stdout",
     "output_type": "stream",
     "text": [
      "[1213.33890442 2751.79843478] [ 9.10523455 30.97446655]\n",
      "[ 841.02244066 1907.40132654]\n"
     ]
    },
    {
     "data": {
      "image/png": "[encoded data removed]",
      "text/plain": [
       "<Figure size 432x288 with 1 Axes>"
      ]
     },
     "metadata": {
      "needs_background": "light"
     },
     "output_type": "display_data"
    }
   ],
   "source": [
    "popt_theta, pocv_theta = curve_fit(lambda x, *pars: time_fit_func(x, *pars), theta_bins, counts, p0=[10000, 20000])\n",
    "print(popt_theta, np.sqrt(np.diag(pocv_theta)))\n",
    "plt.hist(cluter_1_theta, bins=50)\n",
    "plt.plot(np.linspace(min(theta_bins), max(theta_bins), 10000), [time_fit_func(el, *popt_theta) for el in np.linspace(min(theta_bins), max(theta_bins), 10000)])\n",
    "print(popt_theta * np.log(2))"
   ]
  }
 ],
 "metadata": {
  "kernelspec": {
   "display_name": "Python 3 (ipykernel)",
   "language": "python",
   "name": "python3"
  },
  "language_info": {
   "codemirror_mode": {
    "name": "ipython",
    "version": 3
   },
   "file_extension": ".py",
   "mimetype": "text/x-python",
   "name": "python",
   "nbconvert_exporter": "python",
   "pygments_lexer": "ipython3",
   "version": "3.8.10"
  }
 },
 "nbformat": 4,
 "nbformat_minor": 5
}
